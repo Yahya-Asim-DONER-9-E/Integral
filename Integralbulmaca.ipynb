{
  "nbformat": 4,
  "nbformat_minor": 0,
  "metadata": {
    "colab": {
      "name": "Untitled0.ipynb",
      "provenance": [],
      "authorship_tag": "ABX9TyODNBJV0kgiI75S8fvQAVro",
      "include_colab_link": true
    },
    "kernelspec": {
      "name": "python3",
      "display_name": "Python 3"
    }
  },
  "cells": [
    {
      "cell_type": "markdown",
      "metadata": {
        "id": "view-in-github",
        "colab_type": "text"
      },
      "source": [
        "<a href=\"https://colab.research.google.com/github/Yahya-Asim-DONER-9-E/Integral/blob/master/Integralbulmaca.ipynb\" target=\"_parent\"><img src=\"https://colab.research.google.com/assets/colab-badge.svg\" alt=\"Open In Colab\"/></a>"
      ]
    },
    {
      "cell_type": "code",
      "metadata": {
        "id": "8LWHcQH_k8pj",
        "colab_type": "code",
        "colab": {}
      },
      "source": [
        "def Integral(a ,b ,n):\n",
        "  w = (b-a)/n\n",
        "  i = 1\n",
        "  sum = 0\n",
        "  while i <= n:\n",
        "    i += 1\n",
        "    sum += w * ((i-1)*w + a)*((i-1)*w + a)\n",
        "  print(\"Integral = \",sum);  "
      ],
      "execution_count": 0,
      "outputs": []
    },
    {
      "cell_type": "code",
      "metadata": {
        "id": "l2MMlhFUog7p",
        "colab_type": "code",
        "colab": {
          "base_uri": "https://localhost:8080/",
          "height": 34
        },
        "outputId": "03a822c6-cdb8-404f-f327-40c12f335a09"
      },
      "source": [
        "Integral(1,3,10000);"
      ],
      "execution_count": 4,
      "outputs": [
        {
          "output_type": "stream",
          "text": [
            "Integral =  8.667466680000013\n"
          ],
          "name": "stdout"
        }
      ]
    },
    {
      "cell_type": "markdown",
      "metadata": {
        "id": "8iwoJRdVp5dn",
        "colab_type": "text"
      },
      "source": [
        "Burdan Integran değerimiz yaklaşık olarak 8,66 çıkar\n"
      ]
    }
  ]
}